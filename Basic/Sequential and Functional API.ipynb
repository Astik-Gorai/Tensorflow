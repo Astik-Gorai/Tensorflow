{
  "nbformat": 4,
  "nbformat_minor": 0,
  "metadata": {
    "colab": {
      "provenance": []
    },
    "kernelspec": {
      "name": "python3",
      "display_name": "Python 3"
    },
    "language_info": {
      "name": "python"
    }
  },
  "cells": [
    {
      "cell_type": "code",
      "execution_count": 1,
      "metadata": {
        "id": "jDv6Ep9Iw2uy"
      },
      "outputs": [],
      "source": [
        "import tensorflow as tf\n",
        "from tensorflow import keras\n",
        "from tensorflow.keras import layers\n",
        "from tensorflow.keras.datasets import mnist"
      ]
    },
    {
      "cell_type": "code",
      "source": [
        "(x_train,y_train),(x_test,y_test) = mnist.load_data()"
      ],
      "metadata": {
        "colab": {
          "base_uri": "https://localhost:8080/"
        },
        "id": "d_iq2MlXxwuQ",
        "outputId": "a74597bc-acd3-4342-e424-65361b7c3d7d"
      },
      "execution_count": 2,
      "outputs": [
        {
          "output_type": "stream",
          "name": "stdout",
          "text": [
            "Downloading data from https://storage.googleapis.com/tensorflow/tf-keras-datasets/mnist.npz\n",
            "11490434/11490434 [==============================] - 1s 0us/step\n"
          ]
        }
      ]
    },
    {
      "cell_type": "code",
      "source": [
        "print(x_train.shape)\n",
        "print(y_train.shape)"
      ],
      "metadata": {
        "colab": {
          "base_uri": "https://localhost:8080/"
        },
        "id": "XpOUiHJmyDxa",
        "outputId": "75f0d738-1c58-4c86-ddd7-088ea47abea4"
      },
      "execution_count": 3,
      "outputs": [
        {
          "output_type": "stream",
          "name": "stdout",
          "text": [
            "(60000, 28, 28)\n",
            "(60000,)\n"
          ]
        }
      ]
    },
    {
      "cell_type": "code",
      "source": [
        "x_train = x_train.reshape(-1,28*28).astype(\"float32\")/255.0\n",
        "x_test = x_test.reshape(-1,28*28).astype(\"float32\")/255.0"
      ],
      "metadata": {
        "id": "l5WjNduXyU2p"
      },
      "execution_count": 5,
      "outputs": []
    },
    {
      "cell_type": "code",
      "source": [
        "# x_train = tf.convert_to_tensor(x_train)\n",
        "# This is not required because it internally does this things\n"
      ],
      "metadata": {
        "id": "f1SRMD9HTpIj"
      },
      "execution_count": 7,
      "outputs": []
    },
    {
      "cell_type": "code",
      "source": [
        "# Sequential API -> One Input maps to One Output\n",
        "\n",
        "model = keras.Sequential(\n",
        "    [\n",
        "        keras.Input(shape=(28*28)),\n",
        "        layers.Dense(512,activation=\"relu\"),\n",
        "        layers.Dense(256,activation = \"relu\"),\n",
        "        layers.Dense(10),\n",
        "    ]\n",
        ")\n",
        "print(model.summary())\n",
        "model.compile(\n",
        "    loss=keras.losses.SparseCategoricalCrossentropy(from_logits=True),\n",
        "    optimizer=keras.optimizers.Adam(learning_rate=0.001),\n",
        "    metrics=[\"accuracy\"],\n",
        ")\n",
        "\n",
        "# If we do not include the input layer in the sequential model, then we can not use the model.summary(). We can use it but after model.fit()\n"
      ],
      "metadata": {
        "colab": {
          "base_uri": "https://localhost:8080/"
        },
        "id": "_oNM2It9T5og",
        "outputId": "bff98a57-7d14-4073-8ecc-02b8fd41d602"
      },
      "execution_count": 16,
      "outputs": [
        {
          "output_type": "stream",
          "name": "stdout",
          "text": [
            "Model: \"sequential_6\"\n",
            "_________________________________________________________________\n",
            " Layer (type)                Output Shape              Param #   \n",
            "=================================================================\n",
            " dense_17 (Dense)            (None, 512)               401920    \n",
            "                                                                 \n",
            " dense_18 (Dense)            (None, 256)               131328    \n",
            "                                                                 \n",
            " dense_19 (Dense)            (None, 10)                2570      \n",
            "                                                                 \n",
            "=================================================================\n",
            "Total params: 535818 (2.04 MB)\n",
            "Trainable params: 535818 (2.04 MB)\n",
            "Non-trainable params: 0 (0.00 Byte)\n",
            "_________________________________________________________________\n",
            "None\n"
          ]
        }
      ]
    },
    {
      "cell_type": "code",
      "source": [
        "model.fit(x_train, y_train, batch_size=32, epochs=5, verbose=2)"
      ],
      "metadata": {
        "colab": {
          "base_uri": "https://localhost:8080/"
        },
        "id": "ahDPzGxNUyy5",
        "outputId": "2ad813a8-4159-4aca-8c66-18efaa946d2c"
      },
      "execution_count": 11,
      "outputs": [
        {
          "output_type": "stream",
          "name": "stdout",
          "text": [
            "Epoch 1/5\n",
            "1875/1875 - 16s - loss: 0.5747 - accuracy: 0.8278 - 16s/epoch - 8ms/step\n",
            "Epoch 2/5\n",
            "1875/1875 - 14s - loss: 0.2906 - accuracy: 0.9144 - 14s/epoch - 7ms/step\n",
            "Epoch 3/5\n",
            "1875/1875 - 14s - loss: 0.2228 - accuracy: 0.9340 - 14s/epoch - 7ms/step\n",
            "Epoch 4/5\n",
            "1875/1875 - 14s - loss: 0.1740 - accuracy: 0.9481 - 14s/epoch - 7ms/step\n",
            "Epoch 5/5\n",
            "1875/1875 - 14s - loss: 0.1411 - accuracy: 0.9576 - 14s/epoch - 7ms/step\n"
          ]
        },
        {
          "output_type": "execute_result",
          "data": {
            "text/plain": [
              "<keras.src.callbacks.History at 0x7f30b0390610>"
            ]
          },
          "metadata": {},
          "execution_count": 11
        }
      ]
    },
    {
      "cell_type": "code",
      "source": [
        "model.evaluate(x_test, y_test, batch_size=32, verbose=2)"
      ],
      "metadata": {
        "colab": {
          "base_uri": "https://localhost:8080/"
        },
        "id": "jemoEyDvV4sA",
        "outputId": "778de8b1-6dd8-47a5-9485-178307a9bb83"
      },
      "execution_count": 12,
      "outputs": [
        {
          "output_type": "stream",
          "name": "stdout",
          "text": [
            "313/313 - 1s - loss: 19.3229 - accuracy: 0.9372 - 921ms/epoch - 3ms/step\n"
          ]
        },
        {
          "output_type": "execute_result",
          "data": {
            "text/plain": [
              "[19.322860717773438, 0.9372000098228455]"
            ]
          },
          "metadata": {},
          "execution_count": 12
        }
      ]
    },
    {
      "cell_type": "markdown",
      "source": [
        "Another way to declare a model\n"
      ],
      "metadata": {
        "id": "ka889YEoX_7U"
      }
    },
    {
      "cell_type": "code",
      "source": [
        "model = keras.Sequential()\n",
        "model.add(keras.Input(shape=(28*28)))\n",
        "model.add(layers.Dense(512,activation=\"relu\"))\n",
        "print(model.summary())\n",
        "model.add(layers.Dense(256,activation=\"relu\",name=\"my_layer\"))\n",
        "print(model.summary())\n",
        "model2.add(layers.Dense(10))\n",
        "print(model.summary())\n",
        "\n",
        "# Using model.summary() we can easily debug our model. We can check how the input shape changes over the layers"
      ],
      "metadata": {
        "colab": {
          "base_uri": "https://localhost:8080/"
        },
        "id": "UGX8CC8NWMsx",
        "outputId": "80d63f62-12da-4f0c-b385-228aad17d623"
      },
      "execution_count": 33,
      "outputs": [
        {
          "output_type": "stream",
          "name": "stdout",
          "text": [
            "Model: \"sequential_11\"\n",
            "_________________________________________________________________\n",
            " Layer (type)                Output Shape              Param #   \n",
            "=================================================================\n",
            " dense_35 (Dense)            (None, 512)               401920    \n",
            "                                                                 \n",
            "=================================================================\n",
            "Total params: 401920 (1.53 MB)\n",
            "Trainable params: 401920 (1.53 MB)\n",
            "Non-trainable params: 0 (0.00 Byte)\n",
            "_________________________________________________________________\n",
            "None\n",
            "Model: \"sequential_11\"\n",
            "_________________________________________________________________\n",
            " Layer (type)                Output Shape              Param #   \n",
            "=================================================================\n",
            " dense_35 (Dense)            (None, 512)               401920    \n",
            "                                                                 \n",
            " my_layer (Dense)            (None, 256)               131328    \n",
            "                                                                 \n",
            "=================================================================\n",
            "Total params: 533248 (2.03 MB)\n",
            "Trainable params: 533248 (2.03 MB)\n",
            "Non-trainable params: 0 (0.00 Byte)\n",
            "_________________________________________________________________\n",
            "None\n",
            "Model: \"sequential_11\"\n",
            "_________________________________________________________________\n",
            " Layer (type)                Output Shape              Param #   \n",
            "=================================================================\n",
            " dense_35 (Dense)            (None, 512)               401920    \n",
            "                                                                 \n",
            " my_layer (Dense)            (None, 256)               131328    \n",
            "                                                                 \n",
            "=================================================================\n",
            "Total params: 533248 (2.03 MB)\n",
            "Trainable params: 533248 (2.03 MB)\n",
            "Non-trainable params: 0 (0.00 Byte)\n",
            "_________________________________________________________________\n",
            "None\n"
          ]
        }
      ]
    },
    {
      "cell_type": "markdown",
      "source": [
        "## Difference between Functional API and Sequential API\n",
        "## Limitation of Sequential API"
      ],
      "metadata": {
        "id": "xOYda9qMZm9j"
      }
    },
    {
      "cell_type": "markdown",
      "source": [
        "### Functional API"
      ],
      "metadata": {
        "id": "7Nezx2CMaQJs"
      }
    },
    {
      "cell_type": "code",
      "source": [
        "# Functional API ( More Flexible => Support multiple input and multiple output)\n",
        "\n",
        "\n",
        "inputs = keras.Input(shape=(28*28),name=\"Input_Layer\")\n",
        "x = layers.Dense(512,activation=\"relu\",name=\"First_Dense_Layer\")(inputs)\n",
        "x = layers.Dense(256,activation=\"relu\",name=\"Second_Dense_Layer\")(x)\n",
        "outputs = layers.Dense(10,activation=\"softmax\",name=\"Output_Layer\")(x)\n",
        "model3 = keras.Model(inputs=inputs,outputs=outputs)\n",
        "\n",
        "print(model3.summary())\n",
        "model3.compile(\n",
        "     loss=keras.losses.SparseCategoricalCrossentropy(from_logits=False),\n",
        "    optimizer=keras.optimizers.Adam(learning_rate=0.001),\n",
        "    metrics=[\"accuracy\"],\n",
        ")\n"
      ],
      "metadata": {
        "colab": {
          "base_uri": "https://localhost:8080/"
        },
        "id": "1sQgN65IYg7_",
        "outputId": "9cd63444-b527-4239-81d1-4e91ab61185b"
      },
      "execution_count": 25,
      "outputs": [
        {
          "output_type": "stream",
          "name": "stdout",
          "text": [
            "Model: \"model_3\"\n",
            "_________________________________________________________________\n",
            " Layer (type)                Output Shape              Param #   \n",
            "=================================================================\n",
            " Input_Layer (InputLayer)    [(None, 784)]             0         \n",
            "                                                                 \n",
            " First_Dense_Layer (Dense)   (None, 512)               401920    \n",
            "                                                                 \n",
            " Second_Dense_Layer (Dense)  (None, 256)               131328    \n",
            "                                                                 \n",
            " Output_Layer (Dense)        (None, 10)                2570      \n",
            "                                                                 \n",
            "=================================================================\n",
            "Total params: 535818 (2.04 MB)\n",
            "Trainable params: 535818 (2.04 MB)\n",
            "Non-trainable params: 0 (0.00 Byte)\n",
            "_________________________________________________________________\n",
            "None\n"
          ]
        }
      ]
    },
    {
      "cell_type": "code",
      "source": [
        "model3.fit(x_train, y_train, batch_size=32, epochs=5, verbose=2)\n",
        "model3.evaluate(x_test, y_test, batch_size=32, verbose=2)"
      ],
      "metadata": {
        "colab": {
          "base_uri": "https://localhost:8080/"
        },
        "id": "wbKdoUHXb414",
        "outputId": "78606249-5f0b-4491-eef8-d74124416e78"
      },
      "execution_count": 22,
      "outputs": [
        {
          "output_type": "stream",
          "name": "stdout",
          "text": [
            "Epoch 1/5\n",
            "1875/1875 - 15s - loss: 0.5849 - accuracy: 0.8230 - 15s/epoch - 8ms/step\n",
            "Epoch 2/5\n",
            "1875/1875 - 15s - loss: 0.2945 - accuracy: 0.9133 - 15s/epoch - 8ms/step\n",
            "Epoch 3/5\n",
            "1875/1875 - 21s - loss: 0.2201 - accuracy: 0.9348 - 21s/epoch - 11ms/step\n",
            "Epoch 4/5\n",
            "1875/1875 - 20s - loss: 0.1712 - accuracy: 0.9489 - 20s/epoch - 11ms/step\n",
            "Epoch 5/5\n",
            "1875/1875 - 18s - loss: 0.1374 - accuracy: 0.9586 - 18s/epoch - 10ms/step\n",
            "313/313 - 1s - loss: 17.3571 - accuracy: 0.9397 - 1s/epoch - 5ms/step\n"
          ]
        },
        {
          "output_type": "execute_result",
          "data": {
            "text/plain": [
              "[17.35706901550293, 0.9397000074386597]"
            ]
          },
          "metadata": {},
          "execution_count": 22
        }
      ]
    },
    {
      "cell_type": "markdown",
      "source": [
        "### Feature Extraction from layers"
      ],
      "metadata": {
        "id": "No6W61wfd0Fd"
      }
    },
    {
      "cell_type": "code",
      "source": [
        "model = keras.Model(inputs=model.inputs,outputs=[model.layers[-2].output])\n",
        "feature = model.predict(x_train)\n",
        "print(feature.shape)"
      ],
      "metadata": {
        "colab": {
          "base_uri": "https://localhost:8080/"
        },
        "id": "beS34kXEcdyn",
        "outputId": "e924d92d-70f7-48c2-cf49-6d1400c608f3"
      },
      "execution_count": 36,
      "outputs": [
        {
          "output_type": "stream",
          "name": "stdout",
          "text": [
            "1875/1875 [==============================] - 5s 2ms/step\n",
            "(60000, 512)\n"
          ]
        }
      ]
    },
    {
      "cell_type": "code",
      "source": [
        "model = keras.Model(inputs=model.inputs,outputs=[model.get_layer('my_layer').output])\n",
        "feature = model.predict(x_train)\n",
        "print(feature.shape)"
      ],
      "metadata": {
        "colab": {
          "base_uri": "https://localhost:8080/"
        },
        "id": "-qanl36Cebzm",
        "outputId": "6017f5d2-8d74-45e4-e997-efcd65c1f1b0"
      },
      "execution_count": 34,
      "outputs": [
        {
          "output_type": "stream",
          "name": "stdout",
          "text": [
            "1875/1875 [==============================] - 6s 3ms/step\n",
            "(60000, 256)\n"
          ]
        }
      ]
    },
    {
      "cell_type": "code",
      "source": [],
      "metadata": {
        "id": "nktvzg_-e_gV"
      },
      "execution_count": null,
      "outputs": []
    }
  ]
}